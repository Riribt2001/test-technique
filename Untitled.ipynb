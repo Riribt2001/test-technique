{
 "cells": [
  {
   "cell_type": "code",
   "execution_count": 9,
   "id": "4a2e6b71-5df5-4eff-b4c9-03cd048b0356",
   "metadata": {},
   "outputs": [
    {
     "name": "stdout",
     "output_type": "stream",
     "text": [
      "La somme totale des valeurs d'étalonnage est : 53386\n"
     ]
    }
   ],
   "source": [
    "import re\n",
    "file_path = r'C:\\Users\\MSI\\Desktop\\PY\\donnees.txt'\n",
    "\n",
    "try:\n",
    "    with open(file_path, 'r') as file:\n",
    "        lines = file.readlines()\n",
    "\n",
    "    total_calibration_sum = 0\n",
    "    for line in lines:\n",
    "        line = line.strip()  \n",
    "        digits = re.findall(r'\\d', line)  \n",
    "        if digits:\n",
    "            first_digit, last_digit = digits[0], digits[-1]  \n",
    "            calibration_value = int(first_digit + last_digit)  \n",
    "            total_calibration_sum += calibration_value  \n",
    "\n",
    "    print(f\"La somme totale des valeurs d'étalonnage est : {total_calibration_sum}\")\n",
    "except FileNotFoundError:\n",
    "    print(f\"Le fichier '{file_path}' est introuvable. Vérifiez le chemin et le nom du fichier.\")\n"
   ]
  },
  {
   "cell_type": "code",
   "execution_count": null,
   "id": "6ee3cec0-c17d-46df-88ec-03c6a7d8f7c6",
   "metadata": {},
   "outputs": [],
   "source": []
  }
 ],
 "metadata": {
  "kernelspec": {
   "display_name": "Python 3 (ipykernel)",
   "language": "python",
   "name": "python3"
  },
  "language_info": {
   "codemirror_mode": {
    "name": "ipython",
    "version": 3
   },
   "file_extension": ".py",
   "mimetype": "text/x-python",
   "name": "python",
   "nbconvert_exporter": "python",
   "pygments_lexer": "ipython3",
   "version": "3.12.7"
  }
 },
 "nbformat": 4,
 "nbformat_minor": 5
}
